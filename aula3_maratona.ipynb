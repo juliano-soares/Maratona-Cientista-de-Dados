{
  "nbformat": 4,
  "nbformat_minor": 0,
  "metadata": {
    "colab": {
      "name": "aula3_maratona.ipynb",
      "provenance": [],
      "collapsed_sections": []
    },
    "kernelspec": {
      "name": "python3",
      "display_name": "Python 3"
    }
  },
  "cells": [
    {
      "cell_type": "markdown",
      "metadata": {
        "id": "WHSU8NShZedN"
      },
      "source": [
        "![alt text](https://encrypted-tbn0.gstatic.com/images?q=tbn%3AANd9GcTK4gQ9nhwHHaSXMHpeggWg7twwMCgb877smkRmtkmDeDoGF9Z6&usqp=CAU)"
      ]
    },
    {
      "cell_type": "markdown",
      "metadata": {
        "id": "7oiQVQi0AJ6D"
      },
      "source": [
        "# <font color='Blue'>Maratona Cientista de Dados na Prática</font>\n",
        "\n",
        "### <font color='GREY'> SAE - Sistema de Aprovação de Empréstimos </font>  \n",
        "\n",
        "![](https://i.gifer.com/MKsN.gif)\n",
        "\n",
        "\n"
      ]
    },
    {
      "cell_type": "markdown",
      "metadata": {
        "id": "PpHbZsBZ2aDB"
      },
      "source": [
        "# <font color='Black'> **Aula 3 - Criando uma Aplicação WEB com sua Máquina Preditiva** </font>\r\n",
        "\r\n"
      ]
    },
    {
      "cell_type": "markdown",
      "metadata": {
        "id": "LI4TUsUJ0u66"
      },
      "source": [
        "# <font color='Blue'>6° Implementando a Maquina Preditiva  para a Fintech Crédito Fácil</font>\n",
        "![](https://buhgalteru.kz/wp-content/uploads/2020/09/robot.gif)\n"
      ]
    },
    {
      "cell_type": "markdown",
      "metadata": {
        "id": "kEUIRvSlVy4H"
      },
      "source": [
        "![](https://cienciadosdados.com/images/2021/Design_sem_nome_10.png)"
      ]
    },
    {
      "cell_type": "markdown",
      "metadata": {
        "id": "l8D_ZDsg9vVA"
      },
      "source": [
        "### **Guia Passo a Passo** para Implementação do Sistema de Aprovação de Empréstimo Online:"
      ]
    },
    {
      "cell_type": "markdown",
      "metadata": {
        "id": "BWnqIW7vWONv"
      },
      "source": [
        "###### **Observação**: Caso não esteja fazendo as aulas sequencialmente e tenha desligado a sessão no Colab, reexecute o Script abaixo antes de ir para o 1°Passo."
      ]
    },
    {
      "cell_type": "code",
      "metadata": {
        "id": "c6kMyerHB4tv"
      },
      "source": [
        "## Pacotes\r\n",
        "import pandas as pd     #Biblioteca de Funções de Manipulação de Dados\r\n",
        "import seaborn as sns   #Biblioteca de Funções de Visualização Gráfica\r\n",
        "import warnings\r\n",
        "warnings.filterwarnings(\"ignore\")\r\n",
        "\r\n",
        "#Importação dos Dados\r\n",
        "clientes = pd.read_csv('/content/clientes.csv')\r\n",
        "\r\n",
        "#Substituindo caracteres por números\r\n",
        "clientes['sexo']= clientes['sexo'].map({'Male':0, 'Female':1})\r\n",
        "clientes['estado_civil']= clientes['estado_civil'].map({'No':0, 'Yes':1})\r\n",
        "clientes['aprovacao_emprestimo']= clientes['aprovacao_emprestimo'].map({'N':0, 'Y':1})\r\n",
        "\r\n",
        "# Eliminando valores Nulos\r\n",
        "clientes = clientes.dropna()\r\n",
        "\r\n",
        "# Separando variáveis Explicativas e Variável TARGET\r\n",
        "X = clientes[['sexo', 'estado_civil', 'renda', 'emprestimo', 'historico_credito']]\r\n",
        "y = clientes.aprovacao_emprestimo\r\n",
        "X.shape, y.shape\r\n",
        "\r\n",
        "# importando Pacote para Amostragem dos Dados\r\n",
        "from sklearn.model_selection import train_test_split\r\n",
        "\r\n",
        "# Realizando Amostragem dosa Dados\r\n",
        "x_train, x_teste, y_train, y_teste = train_test_split(X,y, test_size = 0.2, random_state = 7)\r\n",
        "\r\n",
        "#Importando Pacotes para Construção das Máquinas Preditivas com Machine Learning\r\n",
        "\r\n",
        "## Algoritmo Random Forest\r\n",
        "from sklearn.ensemble import RandomForestClassifier \r\n",
        "\r\n",
        "#Importando a Métrica de Avaliação\r\n",
        "from sklearn.metrics import accuracy_score\r\n",
        "\r\n",
        "# Criando a Máquina Preditiva com o Random Forest \r\n",
        "maquina = RandomForestClassifier(max_depth=4, random_state = 7) \r\n",
        "maquina.fit(x_train, y_train)\r\n",
        "\r\n",
        "#Avaliando a Acurácia da Máquina Preditiva Baseline com dados de Teste\r\n",
        "pred_maquina_teste = maquina.predict(x_teste)\r\n",
        "accuracy_score(y_teste,pred_maquina_teste)\r\n",
        "\r\n",
        "#Comando de Salvamento da Máquina Preditiva\r\n",
        "import pickle \r\n",
        "pickle_out = open(\"maquina_preditiva.pkl\", mode = \"wb\") \r\n",
        "pickle.dump(maquina, pickle_out) \r\n",
        "pickle_out.close()"
      ],
      "execution_count": 3,
      "outputs": []
    },
    {
      "cell_type": "markdown",
      "metadata": {
        "id": "eZ5JvDVuw1Eq"
      },
      "source": [
        "##1° Instalar o Pacote para Conexão do nosso Sistema na WEB"
      ]
    },
    {
      "cell_type": "code",
      "metadata": {
        "id": "SSaPBHuDDwx3",
        "colab": {
          "base_uri": "https://localhost:8080/"
        },
        "outputId": "e052505e-5ec3-4d0f-dcb3-8aad54bfbe33"
      },
      "source": [
        "#instalação do Pacote para Conexão do nosso Sistema na WEB \r\n",
        "!pip install -q pyngrok\r\n"
      ],
      "execution_count": 4,
      "outputs": [
        {
          "output_type": "stream",
          "text": [
            "\u001b[?25l\r\u001b[K     |▍                               | 10kB 22.1MB/s eta 0:00:01\r\u001b[K     |▉                               | 20kB 27.0MB/s eta 0:00:01\r\u001b[K     |█▎                              | 30kB 13.4MB/s eta 0:00:01\r\u001b[K     |█▊                              | 40kB 9.9MB/s eta 0:00:01\r\u001b[K     |██▏                             | 51kB 7.2MB/s eta 0:00:01\r\u001b[K     |██▋                             | 61kB 7.5MB/s eta 0:00:01\r\u001b[K     |███                             | 71kB 7.2MB/s eta 0:00:01\r\u001b[K     |███▌                            | 81kB 7.8MB/s eta 0:00:01\r\u001b[K     |████                            | 92kB 8.1MB/s eta 0:00:01\r\u001b[K     |████▍                           | 102kB 8.4MB/s eta 0:00:01\r\u001b[K     |████▉                           | 112kB 8.4MB/s eta 0:00:01\r\u001b[K     |█████▎                          | 122kB 8.4MB/s eta 0:00:01\r\u001b[K     |█████▊                          | 133kB 8.4MB/s eta 0:00:01\r\u001b[K     |██████▏                         | 143kB 8.4MB/s eta 0:00:01\r\u001b[K     |██████▋                         | 153kB 8.4MB/s eta 0:00:01\r\u001b[K     |███████                         | 163kB 8.4MB/s eta 0:00:01\r\u001b[K     |███████▌                        | 174kB 8.4MB/s eta 0:00:01\r\u001b[K     |████████                        | 184kB 8.4MB/s eta 0:00:01\r\u001b[K     |████████▍                       | 194kB 8.4MB/s eta 0:00:01\r\u001b[K     |████████▉                       | 204kB 8.4MB/s eta 0:00:01\r\u001b[K     |█████████▎                      | 215kB 8.4MB/s eta 0:00:01\r\u001b[K     |█████████▊                      | 225kB 8.4MB/s eta 0:00:01\r\u001b[K     |██████████▏                     | 235kB 8.4MB/s eta 0:00:01\r\u001b[K     |██████████▋                     | 245kB 8.4MB/s eta 0:00:01\r\u001b[K     |███████████                     | 256kB 8.4MB/s eta 0:00:01\r\u001b[K     |███████████▌                    | 266kB 8.4MB/s eta 0:00:01\r\u001b[K     |████████████                    | 276kB 8.4MB/s eta 0:00:01\r\u001b[K     |████████████▍                   | 286kB 8.4MB/s eta 0:00:01\r\u001b[K     |████████████▉                   | 296kB 8.4MB/s eta 0:00:01\r\u001b[K     |█████████████▎                  | 307kB 8.4MB/s eta 0:00:01\r\u001b[K     |█████████████▊                  | 317kB 8.4MB/s eta 0:00:01\r\u001b[K     |██████████████                  | 327kB 8.4MB/s eta 0:00:01\r\u001b[K     |██████████████▌                 | 337kB 8.4MB/s eta 0:00:01\r\u001b[K     |███████████████                 | 348kB 8.4MB/s eta 0:00:01\r\u001b[K     |███████████████▍                | 358kB 8.4MB/s eta 0:00:01\r\u001b[K     |███████████████▉                | 368kB 8.4MB/s eta 0:00:01\r\u001b[K     |████████████████▎               | 378kB 8.4MB/s eta 0:00:01\r\u001b[K     |████████████████▊               | 389kB 8.4MB/s eta 0:00:01\r\u001b[K     |█████████████████▏              | 399kB 8.4MB/s eta 0:00:01\r\u001b[K     |█████████████████▋              | 409kB 8.4MB/s eta 0:00:01\r\u001b[K     |██████████████████              | 419kB 8.4MB/s eta 0:00:01\r\u001b[K     |██████████████████▌             | 430kB 8.4MB/s eta 0:00:01\r\u001b[K     |███████████████████             | 440kB 8.4MB/s eta 0:00:01\r\u001b[K     |███████████████████▍            | 450kB 8.4MB/s eta 0:00:01\r\u001b[K     |███████████████████▉            | 460kB 8.4MB/s eta 0:00:01\r\u001b[K     |████████████████████▎           | 471kB 8.4MB/s eta 0:00:01\r\u001b[K     |████████████████████▊           | 481kB 8.4MB/s eta 0:00:01\r\u001b[K     |█████████████████████▏          | 491kB 8.4MB/s eta 0:00:01\r\u001b[K     |█████████████████████▋          | 501kB 8.4MB/s eta 0:00:01\r\u001b[K     |██████████████████████          | 512kB 8.4MB/s eta 0:00:01\r\u001b[K     |██████████████████████▌         | 522kB 8.4MB/s eta 0:00:01\r\u001b[K     |███████████████████████         | 532kB 8.4MB/s eta 0:00:01\r\u001b[K     |███████████████████████▍        | 542kB 8.4MB/s eta 0:00:01\r\u001b[K     |███████████████████████▉        | 552kB 8.4MB/s eta 0:00:01\r\u001b[K     |████████████████████████▎       | 563kB 8.4MB/s eta 0:00:01\r\u001b[K     |████████████████████████▊       | 573kB 8.4MB/s eta 0:00:01\r\u001b[K     |█████████████████████████▏      | 583kB 8.4MB/s eta 0:00:01\r\u001b[K     |█████████████████████████▋      | 593kB 8.4MB/s eta 0:00:01\r\u001b[K     |██████████████████████████      | 604kB 8.4MB/s eta 0:00:01\r\u001b[K     |██████████████████████████▌     | 614kB 8.4MB/s eta 0:00:01\r\u001b[K     |███████████████████████████     | 624kB 8.4MB/s eta 0:00:01\r\u001b[K     |███████████████████████████▍    | 634kB 8.4MB/s eta 0:00:01\r\u001b[K     |███████████████████████████▉    | 645kB 8.4MB/s eta 0:00:01\r\u001b[K     |████████████████████████████▏   | 655kB 8.4MB/s eta 0:00:01\r\u001b[K     |████████████████████████████▋   | 665kB 8.4MB/s eta 0:00:01\r\u001b[K     |█████████████████████████████   | 675kB 8.4MB/s eta 0:00:01\r\u001b[K     |█████████████████████████████▌  | 686kB 8.4MB/s eta 0:00:01\r\u001b[K     |██████████████████████████████  | 696kB 8.4MB/s eta 0:00:01\r\u001b[K     |██████████████████████████████▍ | 706kB 8.4MB/s eta 0:00:01\r\u001b[K     |██████████████████████████████▉ | 716kB 8.4MB/s eta 0:00:01\r\u001b[K     |███████████████████████████████▎| 727kB 8.4MB/s eta 0:00:01\r\u001b[K     |███████████████████████████████▊| 737kB 8.4MB/s eta 0:00:01\r\u001b[K     |████████████████████████████████| 747kB 8.4MB/s \n",
            "\u001b[?25h  Building wheel for pyngrok (setup.py) ... \u001b[?25l\u001b[?25hdone\n"
          ],
          "name": "stdout"
        }
      ]
    },
    {
      "cell_type": "markdown",
      "metadata": {
        "id": "ic15OJwXw7Xv"
      },
      "source": [
        "##2° Instalar o Pacote para Implementação do nosso Sistema na WEB"
      ]
    },
    {
      "cell_type": "code",
      "metadata": {
        "id": "dSIEmVidDx_G"
      },
      "source": [
        "#instalação dos Pacotes para Implementação do nosso Sistema na WEB\r\n",
        "!pip install -q streamlit\r\n",
        "!pip install -q streamlit_ace\r\n"
      ],
      "execution_count": null,
      "outputs": []
    },
    {
      "cell_type": "markdown",
      "metadata": {
        "id": "FuX_oCBC2Ylp"
      },
      "source": [
        "## 3° Criar o Sistema  "
      ]
    },
    {
      "cell_type": "code",
      "metadata": {
        "id": "1ydtW0TPEY7t",
        "colab": {
          "base_uri": "https://localhost:8080/"
        },
        "outputId": "5241a832-5a16-4061-b552-392f09246b25"
      },
      "source": [
        "#Comando para Criar o Sistema no arquivo app.py\r\n",
        "%%writefile app.py\r\n",
        "\r\n",
        "#Importando Pacotes \r\n",
        "import pickle\r\n",
        "import streamlit as st\r\n",
        " \r\n",
        "# Carregando a Máquina Preditiva\r\n",
        "pickle_in = open('maquina_preditiva.pkl', 'rb') \r\n",
        "maquina_preditiva = pickle.load(pickle_in)\r\n",
        "\r\n",
        "#Manter a sessão em cache \r\n",
        "@st.cache()\r\n",
        "  \r\n",
        "# Criando a função que irá fazer a predição usando os dados impostados pelo usuário do Sistema \r\n",
        "def prediction(sexo, estado_civil, renda, emprestimo, historico_credito):   \r\n",
        " \r\n",
        "    # Pre-processando a entrada do Usuário    \r\n",
        "    if sexo == \"Masculino\":\r\n",
        "        sexo = 0\r\n",
        "    else:\r\n",
        "        sexo = 1\r\n",
        " \r\n",
        "    if estado_civil == \"Solteiro(a)\":\r\n",
        "        estado_civil = 0\r\n",
        "    else:\r\n",
        "        estado_civil = 1\r\n",
        " \r\n",
        "    if historico_credito == \"Débitos Pendentes\":\r\n",
        "        historico_credito = 0\r\n",
        "    else:\r\n",
        "        historico_credito = 1  \r\n",
        " \r\n",
        "    emprestimo = emprestimo / 1000\r\n",
        " \r\n",
        "    # Fazendo Predições\r\n",
        "    prediction = maquina_preditiva.predict( \r\n",
        "        [[sexo, estado_civil, renda, emprestimo, historico_credito]])\r\n",
        "     \r\n",
        "    if prediction == 0:\r\n",
        "        pred = 'Rejeitado'\r\n",
        "    else:\r\n",
        "        pred = 'Aprovado'\r\n",
        "    return pred\r\n",
        "      \r\n",
        "  \r\n",
        "# Essa função é para criação da webpage  \r\n",
        "def main():  \r\n",
        "\r\n",
        "    # Elementos da webpage\r\n",
        "    # Nesse Ponto vc deve Personalizar o Sistema com sua Marca\r\n",
        "    html_temp = \"\"\" \r\n",
        "    <div style =\"background-color:blue;padding:13px\"> \r\n",
        "    <h1 style =\"color:white;text-align:center;\">SAE</h1> \r\n",
        "    <h2 style =\"color:white;text-align:center;\">Sistema de Aprovação de Empréstimos - by Edu</h2> \r\n",
        "    </div> \r\n",
        "    \"\"\"\r\n",
        "      \r\n",
        "    # Função do stramlit que faz o display da webpage\r\n",
        "    st.markdown(html_temp, unsafe_allow_html = True) \r\n",
        "      \r\n",
        "    # As linhas abaixo criam as caixas na qual o usuário vai entrar com dados da pessoa que quer o empréstimo para fazer a Predição\r\n",
        "    sexo = st.selectbox('Sexo',(\"Masculino\",\"Feminino\"))\r\n",
        "    estado_civil = st.selectbox('Estado Civil',(\"Solteiro(a)\",\"Casado(a)\")) \r\n",
        "    renda = st.number_input(\"Renda Mensal\") \r\n",
        "    emprestimo = st.number_input(\"Valor Total do Empréstimo\")\r\n",
        "    historico_credito = st.selectbox('Histórico de Créditos',(\"Sem Débitos\",\"Débitos Pendentes\"))\r\n",
        "    result =\"\"\r\n",
        "      \r\n",
        "    #Quando o Usuário clicar no botão \"Verificar\" a Máquina Preditiva faz seu trabalho\r\n",
        "    if st.button(\"Verificar\"): \r\n",
        "        result = prediction(sexo, estado_civil, renda, emprestimo, historico_credito) \r\n",
        "        st.success('O empréstimo foi {}'.format(result))\r\n",
        "        print(emprestimo)\r\n",
        "     \r\n",
        "if __name__=='__main__': \r\n",
        "    main()\r\n"
      ],
      "execution_count": 6,
      "outputs": [
        {
          "output_type": "stream",
          "text": [
            "Writing app.py\n"
          ],
          "name": "stdout"
        }
      ]
    },
    {
      "cell_type": "markdown",
      "metadata": {
        "id": "BEDDT7-SxQ_V"
      },
      "source": [
        "##4° Executar o Sistema"
      ]
    },
    {
      "cell_type": "code",
      "metadata": {
        "id": "XZNzucf0EZIa"
      },
      "source": [
        "#Executa o sistema\r\n",
        "!streamlit run app.py &>/dev/null&"
      ],
      "execution_count": 7,
      "outputs": []
    },
    {
      "cell_type": "markdown",
      "metadata": {
        "id": "QwFdBpu_xamW"
      },
      "source": [
        "##5° Criar a Conexão do nosso Sistema na WEB"
      ]
    },
    {
      "cell_type": "code",
      "metadata": {
        "id": "LZ5jaY4GGC88"
      },
      "source": [
        "# Importando a Biblioteca para Conexão do nosso Sistema na WEB \r\n",
        "from pyngrok import ngrok"
      ],
      "execution_count": 8,
      "outputs": []
    },
    {
      "cell_type": "markdown",
      "metadata": {
        "id": "zyWvfoAMxhAc"
      },
      "source": [
        "##6° Publicar nosso Sistema numa URL"
      ]
    },
    {
      "cell_type": "code",
      "metadata": {
        "id": "r8VfOxWzUmiK",
        "colab": {
          "base_uri": "https://localhost:8080/"
        },
        "outputId": "06e9df99-9d73-4041-8584-3100473659d6"
      },
      "source": [
        "#Publica o sistema numa URL\r\n",
        "public_url = ngrok.connect('8501')"
      ],
      "execution_count": 9,
      "outputs": [
        {
          "output_type": "stream",
          "text": [
            ""
          ],
          "name": "stdout"
        }
      ]
    },
    {
      "cell_type": "markdown",
      "metadata": {
        "id": "6VgBGpnUxn9u"
      },
      "source": [
        "##7° Abrir o Sistema via Link que contém a palavra ngrok.io"
      ]
    },
    {
      "cell_type": "code",
      "metadata": {
        "id": "i3xz6K0kTsiG",
        "colab": {
          "base_uri": "https://localhost:8080/"
        },
        "outputId": "3683b695-ce42-4422-9682-336e189b3af3"
      },
      "source": [
        "#URL do sistema\r\n",
        "public_url"
      ],
      "execution_count": 10,
      "outputs": [
        {
          "output_type": "execute_result",
          "data": {
            "text/plain": [
              "<NgrokTunnel: \"http://808a23b661f1.ngrok.io\" -> \"http://localhost:8501\">"
            ]
          },
          "metadata": {
            "tags": []
          },
          "execution_count": 10
        }
      ]
    },
    {
      "cell_type": "markdown",
      "metadata": {
        "id": "6Mp2HsHhIj-c"
      },
      "source": [
        "# <font color='Black'> **Aula 4 - O GPS: Se tornando um Cientista de Dados** </font>\r\n",
        "![](https://cdn.dribbble.com/users/355826/screenshots/8809323/media/2b721f9539eba3c7597f2a7f380ed56b.gif)\r\n",
        "\r\n",
        "![](https://techcrunch.com/wp-content/uploads/2020/01/spacex-starlink-launch-jan-20.gif?w=730&crop=1)\r\n",
        "\r\n",
        "![](https://cdn.dribbble.com/users/364457/screenshots/5437045/playsharp-timer-dribbble.gif)"
      ]
    },
    {
      "cell_type": "markdown",
      "metadata": {
        "id": "XTRc7NjBKG65"
      },
      "source": [
        "# Fim"
      ]
    }
  ]
}