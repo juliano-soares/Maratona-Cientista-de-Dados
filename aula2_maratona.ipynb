{
  "nbformat": 4,
  "nbformat_minor": 0,
  "metadata": {
    "colab": {
      "name": "aula2_maratona.ipynb",
      "provenance": [],
      "collapsed_sections": []
    },
    "kernelspec": {
      "name": "python3",
      "display_name": "Python 3"
    }
  },
  "cells": [
    {
      "cell_type": "markdown",
      "metadata": {
        "id": "WHSU8NShZedN"
      },
      "source": [
        "![alt text](https://encrypted-tbn0.gstatic.com/images?q=tbn%3AANd9GcTK4gQ9nhwHHaSXMHpeggWg7twwMCgb877smkRmtkmDeDoGF9Z6&usqp=CAU)"
      ]
    },
    {
      "cell_type": "markdown",
      "metadata": {
        "id": "7oiQVQi0AJ6D"
      },
      "source": [
        "# <font color='Blue'>Maratona Cientista de Dados na Prática</font>\n",
        "\n",
        "### <font color='GREY'> SAE - Sistema de Aprovação de Empréstimos </font>  \n",
        "\n",
        "![](https://i.gifer.com/MKsN.gif)\n",
        "\n",
        "\n"
      ]
    },
    {
      "cell_type": "markdown",
      "metadata": {
        "id": "XcDuCbTG2PSi"
      },
      "source": [
        "# <font color='Black'> **Aula 2 - Construíndo Máquinas Preditivas** </font>\r\n",
        "\r\n",
        "![](https://play.vidyard.com/17BCs3HpfP36GhwmAgaKuC.jpg)"
      ]
    },
    {
      "cell_type": "markdown",
      "metadata": {
        "id": "xLOUwyNzQHVt"
      },
      "source": [
        "#### Vamos refazer algumas etapas da **AULA 1** para começar a construção das Máquinas Preditivas.\r\n"
      ]
    },
    {
      "cell_type": "code",
      "metadata": {
        "id": "c6kMyerHB4tv"
      },
      "source": [
        "## Pacotes\r\n",
        "import pandas as pd     #Biblioteca de Funções de Manipulação de Dados\r\n",
        "import seaborn as sns   #Biblioteca de Funções de Visualização Gráfica\r\n",
        "import warnings\r\n",
        "warnings.filterwarnings(\"ignore\")\r\n",
        "\r\n",
        "#Importação dos Dados\r\n",
        "clientes = pd.read_csv('/content/clientes.csv')\r\n",
        "\r\n",
        "#Substituindo caracteres por números\r\n",
        "clientes['sexo']= clientes['sexo'].map({'Male':0, 'Female':1})\r\n",
        "clientes['estado_civil']= clientes['estado_civil'].map({'No':0, 'Yes':1})\r\n",
        "clientes['aprovacao_emprestimo']= clientes['aprovacao_emprestimo'].map({'N':0, 'Y':1})\r\n",
        "\r\n",
        "# Eliminando valores Nulos\r\n",
        "clientes = clientes.dropna()\r\n",
        "\r\n",
        "# Separando variáveis Explicativas e Variável TARGET\r\n",
        "X = clientes[['sexo', 'estado_civil', 'renda', 'emprestimo', 'historico_credito']]\r\n",
        "y = clientes.aprovacao_emprestimo\r\n",
        "X.shape, y.shape\r\n",
        "\r\n",
        "# importando Pacote para Amostragem dos Dados\r\n",
        "from sklearn.model_selection import train_test_split\r\n",
        "\r\n",
        "# Realizando Amostragem dosa Dados\r\n",
        "x_train, x_teste, y_train, y_teste = train_test_split(X,y, test_size = 0.2, random_state = 7)"
      ],
      "execution_count": 9,
      "outputs": []
    },
    {
      "cell_type": "code",
      "metadata": {
        "id": "5czuM8AoelMQ"
      },
      "source": [
        "x_train"
      ],
      "execution_count": null,
      "outputs": []
    },
    {
      "cell_type": "markdown",
      "metadata": {
        "id": "Y3rduQxEku9Y"
      },
      "source": [
        "# 4° Construindo a Máquina Preditiva"
      ]
    },
    {
      "cell_type": "markdown",
      "metadata": {
        "id": "V4DWJ3hGhqEp"
      },
      "source": [
        "### 1° Versão da Máquina Preditiva: Criando um **baseline**\n",
        "\n",
        "Aqui nós vamos criar a primeira versão da Máquina Preditiva. Depois, vamos buscar formas de melhorar a assertividade do modelo. \n",
        "\n",
        "![](https://i.pinimg.com/originals/99/aa/fe/99aafeb638771b8cacf8a4670b34ea70.gif)"
      ]
    },
    {
      "cell_type": "code",
      "metadata": {
        "id": "pMLFwuXRDdQN"
      },
      "source": [
        "#Importando Pacotes para Construção das Máquinas Preditivas com Machine Learning\r\n",
        "\r\n",
        "## Algoritmo Random Forest\r\n",
        "from sklearn.ensemble import RandomForestClassifier "
      ],
      "execution_count": 11,
      "outputs": []
    },
    {
      "cell_type": "code",
      "metadata": {
        "colab": {
          "base_uri": "https://localhost:8080/"
        },
        "id": "5RMQnV0MvbpH",
        "outputId": "124247e2-ca27-4d28-a7c9-b3815aee1ddd"
      },
      "source": [
        "# Criando a Máquina Preditiva com o Random Forest\r\n",
        "maquina = RandomForestClassifier() \r\n",
        "maquina.fit(x_train, y_train)"
      ],
      "execution_count": 12,
      "outputs": [
        {
          "output_type": "execute_result",
          "data": {
            "text/plain": [
              "RandomForestClassifier(bootstrap=True, ccp_alpha=0.0, class_weight=None,\n",
              "                       criterion='gini', max_depth=None, max_features='auto',\n",
              "                       max_leaf_nodes=None, max_samples=None,\n",
              "                       min_impurity_decrease=0.0, min_impurity_split=None,\n",
              "                       min_samples_leaf=1, min_samples_split=2,\n",
              "                       min_weight_fraction_leaf=0.0, n_estimators=100,\n",
              "                       n_jobs=None, oob_score=False, random_state=None,\n",
              "                       verbose=0, warm_start=False)"
            ]
          },
          "metadata": {
            "tags": []
          },
          "execution_count": 12
        }
      ]
    },
    {
      "cell_type": "markdown",
      "metadata": {
        "id": "7zs6B8NF5asB"
      },
      "source": [
        "#5° Avaliando a Máquina Preditiva"
      ]
    },
    {
      "cell_type": "code",
      "metadata": {
        "id": "qD22ROaYvtW2"
      },
      "source": [
        "#Importando a Métrica de Avaliação\r\n",
        "from sklearn.metrics import accuracy_score"
      ],
      "execution_count": 13,
      "outputs": []
    },
    {
      "cell_type": "code",
      "metadata": {
        "colab": {
          "base_uri": "https://localhost:8080/"
        },
        "id": "oOnO2uJVxpe8",
        "outputId": "3d264eb8-ee8f-4d5e-fb9d-27475959f1d4"
      },
      "source": [
        "#Avaliando a Acurácia da Máquina Preditiva Baseline com os dados de Treino\r\n",
        "pred_maquina = maquina.predict(x_train)\r\n",
        "accuracy_score(y_train,pred_maquina)"
      ],
      "execution_count": 14,
      "outputs": [
        {
          "output_type": "execute_result",
          "data": {
            "text/plain": [
              "1.0"
            ]
          },
          "metadata": {
            "tags": []
          },
          "execution_count": 14
        }
      ]
    },
    {
      "cell_type": "code",
      "metadata": {
        "colab": {
          "base_uri": "https://localhost:8080/"
        },
        "id": "gXAARziZwAxE",
        "outputId": "a71bcfdc-2978-4cee-9fd1-75656a4dc9ba"
      },
      "source": [
        "#Avaliando a Acurácia da Máquina Preditiva Baseline com dados de Teste\r\n",
        "pred_maquina = maquina.predict(x_teste)\r\n",
        "accuracy_score(y_teste,pred_maquina)"
      ],
      "execution_count": 15,
      "outputs": [
        {
          "output_type": "execute_result",
          "data": {
            "text/plain": [
              "0.7291666666666666"
            ]
          },
          "metadata": {
            "tags": []
          },
          "execution_count": 15
        }
      ]
    },
    {
      "cell_type": "markdown",
      "metadata": {
        "id": "cUQ5JbQk56wl"
      },
      "source": [
        "### 2° Versão da Máquina Preditiva: Batendo o Baseline"
      ]
    },
    {
      "cell_type": "markdown",
      "metadata": {
        "id": "ENSMMYTyY8gS"
      },
      "source": [
        "#### Tunando (calibrando) **Hiperparâmetros** do Algoritmo\r\n",
        "\r\n",
        "https://scikit-learn.org/stable/modules/generated/sklearn.ensemble.RandomForestClassifier.html"
      ]
    },
    {
      "cell_type": "markdown",
      "metadata": {
        "id": "fuzazGf_Z2PJ"
      },
      "source": [
        "Vamos utilizar um hiperparâmetro do algoritimo RANDOM FOREST de nome \"**max_depth**\", cujo objetivo é exatamente combater problemas de \"***Overfiting***\"."
      ]
    },
    {
      "cell_type": "markdown",
      "metadata": {
        "id": "xr3RhPx8U8FK"
      },
      "source": [
        "![](https://hackernoon.com/hn-images/1*SBUK2QEfCP-zvJmKm14wGQ.png)\r\n",
        "\r\n",
        "![](https://machinelearningknowledge.ai/wp-content/uploads/2019/05/Overfitting-and-Underfitting-Animation.gif)\r\n",
        "\r\n",
        "![](https://cdn-images-1.medium.com/max/1600/1*vuZxFMi5fODz2OEcpG-S1g.png)"
      ]
    },
    {
      "cell_type": "markdown",
      "metadata": {
        "id": "Hkn2odUuWvVM"
      },
      "source": [
        "### Usando o Hiperparâmetro \"**max_depth**\" para diminuir \"overfiting\""
      ]
    },
    {
      "cell_type": "code",
      "metadata": {
        "colab": {
          "base_uri": "https://localhost:8080/"
        },
        "id": "SHJEOhE7yIRV",
        "outputId": "40da3cd9-94fd-44ef-9f98-a7ed1ccc1443"
      },
      "source": [
        "# Criando a Máquina Preditiva com o Random Forest \r\n",
        "maquina = RandomForestClassifier(max_depth=4, random_state = 7) \r\n",
        "maquina.fit(x_train, y_train)"
      ],
      "execution_count": 16,
      "outputs": [
        {
          "output_type": "execute_result",
          "data": {
            "text/plain": [
              "RandomForestClassifier(bootstrap=True, ccp_alpha=0.0, class_weight=None,\n",
              "                       criterion='gini', max_depth=4, max_features='auto',\n",
              "                       max_leaf_nodes=None, max_samples=None,\n",
              "                       min_impurity_decrease=0.0, min_impurity_split=None,\n",
              "                       min_samples_leaf=1, min_samples_split=2,\n",
              "                       min_weight_fraction_leaf=0.0, n_estimators=100,\n",
              "                       n_jobs=None, oob_score=False, random_state=7, verbose=0,\n",
              "                       warm_start=False)"
            ]
          },
          "metadata": {
            "tags": []
          },
          "execution_count": 16
        }
      ]
    },
    {
      "cell_type": "code",
      "metadata": {
        "colab": {
          "base_uri": "https://localhost:8080/"
        },
        "id": "ASaXrCjpy9Bo",
        "outputId": "98522c7c-13b9-4115-efcf-71cf121e723c"
      },
      "source": [
        "#Avaliando a Acurácia da Máquina Preditiva Baseline com os dados de Treino\r\n",
        "pred_maquina_treino = maquina.predict(x_train)\r\n",
        "accuracy_score(y_train,pred_maquina_treino)"
      ],
      "execution_count": 17,
      "outputs": [
        {
          "output_type": "execute_result",
          "data": {
            "text/plain": [
              "0.8229166666666666"
            ]
          },
          "metadata": {
            "tags": []
          },
          "execution_count": 17
        }
      ]
    },
    {
      "cell_type": "code",
      "metadata": {
        "colab": {
          "base_uri": "https://localhost:8080/"
        },
        "id": "hyvhTN-jy9Bp",
        "outputId": "84a469c6-8bc5-4007-bf0f-d6a9d74fbabb"
      },
      "source": [
        "#Avaliando a Acurácia da Máquina Preditiva Baseline com dados de Teste\r\n",
        "pred_maquina_teste = maquina.predict(x_teste)\r\n",
        "accuracy_score(y_teste,pred_maquina_teste)"
      ],
      "execution_count": 18,
      "outputs": [
        {
          "output_type": "execute_result",
          "data": {
            "text/plain": [
              "0.78125"
            ]
          },
          "metadata": {
            "tags": []
          },
          "execution_count": 18
        }
      ]
    },
    {
      "cell_type": "markdown",
      "metadata": {
        "id": "tBRoCZXtW8fa"
      },
      "source": [
        "![](https://i.pinimg.com/originals/33/32/cb/3332cba8c30ea6266cb86695bb59871e.gif)"
      ]
    },
    {
      "cell_type": "markdown",
      "metadata": {
        "id": "JF6KpP184sv3"
      },
      "source": [
        "### Verificando as Variáveis mais importantes"
      ]
    },
    {
      "cell_type": "code",
      "metadata": {
        "colab": {
          "base_uri": "https://localhost:8080/"
        },
        "id": "0JOxn0bC21Yu",
        "outputId": "164e8a3b-4973-4e07-8179-23752a4921b1"
      },
      "source": [
        "#Importancia das Variáveis\r\n",
        "maquina.feature_importances_"
      ],
      "execution_count": 19,
      "outputs": [
        {
          "output_type": "execute_result",
          "data": {
            "text/plain": [
              "array([0.0226187 , 0.03447823, 0.17332143, 0.17593175, 0.59364989])"
            ]
          },
          "metadata": {
            "tags": []
          },
          "execution_count": 19
        }
      ]
    },
    {
      "cell_type": "code",
      "metadata": {
        "colab": {
          "base_uri": "https://localhost:8080/",
          "height": 282
        },
        "id": "bvcYIJEH4Ax_",
        "outputId": "417ae3c6-c881-4532-d0ad-40435bafdd4c"
      },
      "source": [
        "#Importancia das Variáveis com Gráfico\r\n",
        "print(maquina.feature_importances_)\r\n",
        "# plot\r\n",
        "from matplotlib import pyplot\r\n",
        "pyplot.bar(range(len(maquina.feature_importances_)), maquina.feature_importances_)\r\n",
        "pyplot.show()"
      ],
      "execution_count": 20,
      "outputs": [
        {
          "output_type": "stream",
          "text": [
            "[0.0226187  0.03447823 0.17332143 0.17593175 0.59364989]\n"
          ],
          "name": "stdout"
        },
        {
          "output_type": "display_data",
          "data": {
            "image/png": "[encoded data removed]",
            "text/plain": [
              "<Figure size 432x288 with 1 Axes>"
            ]
          },
          "metadata": {
            "tags": [],
            "needs_background": "light"
          }
        }
      ]
    },
    {
      "cell_type": "code",
      "metadata": {
        "id": "cqdFeemQYRdM"
      },
      "source": [
        "#['sexo', 'estado_civil', 'renda', 'emprestimo', 'historico_credito']"
      ],
      "execution_count": null,
      "outputs": []
    },
    {
      "cell_type": "markdown",
      "metadata": {
        "id": "biTwrNW20xkf"
      },
      "source": [
        "## Podemos salvar nossa Máquina Preditiva para criarmos o Sistema na WEB\r\n"
      ]
    },
    {
      "cell_type": "code",
      "metadata": {
        "id": "ckMCugTLDq8B"
      },
      "source": [
        "#Comando de Salvamento da Máquina Preditiva\r\n",
        "import pickle \r\n",
        "pickle_out = open(\"maquina_preditiva.pkl\", mode = \"wb\") \r\n",
        "pickle.dump(maquina, pickle_out) \r\n",
        "pickle_out.close()"
      ],
      "execution_count": 21,
      "outputs": []
    },
    {
      "cell_type": "markdown",
      "metadata": {
        "id": "yanOX57GYo1W"
      },
      "source": [
        "![](https://nanonets.com/blog/content/images/2020/08/Comp-1_1-1.gif)"
      ]
    },
    {
      "cell_type": "markdown",
      "metadata": {
        "id": "LI4TUsUJ0u66"
      },
      "source": [
        "# <font color='Blue'>6° Deploy - Implementando a Maquina Preditiva na WEB</font>\n",
        "![](https://buhgalteru.kz/wp-content/uploads/2020/09/robot.gif)\n",
        "![](https://techcrunch.com/wp-content/uploads/2020/01/spacex-starlink-launch-jan-20.gif?w=730&crop=1)"
      ]
    },
    {
      "cell_type": "markdown",
      "metadata": {
        "id": "XTRc7NjBKG65"
      },
      "source": [
        "# Fim"
      ]
    }
  ]
}